{
  "nbformat": 4,
  "nbformat_minor": 0,
  "metadata": {
    "colab": {
      "provenance": [],
      "authorship_tag": "ABX9TyMRmt2VjakxOUTKtqIE3+sZ",
      "include_colab_link": true
    },
    "kernelspec": {
      "name": "python3",
      "display_name": "Python 3"
    },
    "language_info": {
      "name": "python"
    }
  },
  "cells": [
    {
      "cell_type": "markdown",
      "metadata": {
        "id": "view-in-github",
        "colab_type": "text"
      },
      "source": [
        "<a href=\"https://colab.research.google.com/github/Long3309/CS221-Project/blob/main/Project_CS221.ipynb\" target=\"_parent\"><img src=\"https://colab.research.google.com/assets/colab-badge.svg\" alt=\"Open In Colab\"/></a>"
      ]
    },
    {
      "cell_type": "markdown",
      "source": [
        "# 1. Tải thư viện\n"
      ],
      "metadata": {
        "id": "83pjlVfa801O"
      }
    },
    {
      "cell_type": "code",
      "execution_count": 1,
      "metadata": {
        "id": "QNgGF4Z48thx"
      },
      "outputs": [],
      "source": [
        "from collections import defaultdict\n",
        "import unicodedata as ud\n",
        "import pandas as pd\n",
        "import numpy as np\n",
        "import math\n",
        "import ast\n",
        "import re\n",
        "import nltk\n"
      ]
    },
    {
      "cell_type": "code",
      "source": [
        "import warnings\n",
        "warnings.filterwarnings('ignore')\n",
        "warnings.filterwarnings(action='ignore', category=DeprecationWarning)\n",
        "warnings.filterwarnings(action='ignore', category=FutureWarning)"
      ],
      "metadata": {
        "id": "nJA4YdaH88sD"
      },
      "execution_count": 2,
      "outputs": []
    },
    {
      "cell_type": "markdown",
      "source": [
        "# 2. Load dữ liệu"
      ],
      "metadata": {
        "id": "1CgyyJ1N9NTh"
      }
    },
    {
      "cell_type": "code",
      "source": [
        "url = \"https://raw.githubusercontent.com/Long3309/CS221-Project/main/dataset/sentences.txt\""
      ],
      "metadata": {
        "id": "0URp3cnG9VAm"
      },
      "execution_count": 3,
      "outputs": []
    },
    {
      "cell_type": "code",
      "source": [
        "!git clone https://github.com/Long3309/CS221-Project.git"
      ],
      "metadata": {
        "colab": {
          "base_uri": "https://localhost:8080/"
        },
        "id": "Kuie3GIc_SM4",
        "outputId": "c7df629c-ae72-4d81-fc55-0dc2df476d4d"
      },
      "execution_count": 16,
      "outputs": [
        {
          "output_type": "stream",
          "name": "stdout",
          "text": [
            "Cloning into 'CS221-Project'...\n",
            "remote: Enumerating objects: 20, done.\u001b[K\n",
            "remote: Counting objects:   5% (1/20)\u001b[K\rremote: Counting objects:  10% (2/20)\u001b[K\rremote: Counting objects:  15% (3/20)\u001b[K\rremote: Counting objects:  20% (4/20)\u001b[K\rremote: Counting objects:  25% (5/20)\u001b[K\rremote: Counting objects:  30% (6/20)\u001b[K\rremote: Counting objects:  35% (7/20)\u001b[K\rremote: Counting objects:  40% (8/20)\u001b[K\rremote: Counting objects:  45% (9/20)\u001b[K\rremote: Counting objects:  50% (10/20)\u001b[K\rremote: Counting objects:  55% (11/20)\u001b[K\rremote: Counting objects:  60% (12/20)\u001b[K\rremote: Counting objects:  65% (13/20)\u001b[K\rremote: Counting objects:  70% (14/20)\u001b[K\rremote: Counting objects:  75% (15/20)\u001b[K\rremote: Counting objects:  80% (16/20)\u001b[K\rremote: Counting objects:  85% (17/20)\u001b[K\rremote: Counting objects:  90% (18/20)\u001b[K\rremote: Counting objects:  95% (19/20)\u001b[K\rremote: Counting objects: 100% (20/20)\u001b[K\rremote: Counting objects: 100% (20/20), done.\u001b[K\n",
            "remote: Compressing objects:   7% (1/13)\u001b[K\rremote: Compressing objects:  15% (2/13)\u001b[K\rremote: Compressing objects:  23% (3/13)\u001b[K\rremote: Compressing objects:  30% (4/13)\u001b[K\rremote: Compressing objects:  38% (5/13)\u001b[K\rremote: Compressing objects:  46% (6/13)\u001b[K\rremote: Compressing objects:  53% (7/13)\u001b[K\rremote: Compressing objects:  61% (8/13)\u001b[K\rremote: Compressing objects:  69% (9/13)\u001b[K\rremote: Compressing objects:  76% (10/13)\u001b[K\rremote: Compressing objects:  84% (11/13)\u001b[K\rremote: Compressing objects:  92% (12/13)\u001b[K\rremote: Compressing objects: 100% (13/13)\u001b[K\rremote: Compressing objects: 100% (13/13), done.\u001b[K\n",
            "Unpacking objects:   5% (1/20)   \rUnpacking objects:  10% (2/20)   \rUnpacking objects:  15% (3/20)   \rUnpacking objects:  20% (4/20)   \rUnpacking objects:  25% (5/20)   \rUnpacking objects:  30% (6/20)   \rUnpacking objects:  35% (7/20)   \rUnpacking objects:  40% (8/20)   \rUnpacking objects:  45% (9/20)   \rUnpacking objects:  50% (10/20)   \rUnpacking objects:  55% (11/20)   \rUnpacking objects:  60% (12/20)   \rUnpacking objects:  65% (13/20)   \rUnpacking objects:  70% (14/20)   \rUnpacking objects:  75% (15/20)   \rremote: Total 20 (delta 5), reused 17 (delta 5), pack-reused 0\u001b[K\n",
            "Unpacking objects:  80% (16/20)   \rUnpacking objects:  85% (17/20)   \rUnpacking objects:  90% (18/20)   \rUnpacking objects:  95% (19/20)   \rUnpacking objects: 100% (20/20)   \rUnpacking objects: 100% (20/20), done.\n"
          ]
        }
      ]
    },
    {
      "cell_type": "code",
      "source": [
        "!ls CS221-Project/dataset"
      ],
      "metadata": {
        "colab": {
          "base_uri": "https://localhost:8080/"
        },
        "id": "EHhmQszo_4pq",
        "outputId": "e61042d2-406c-4340-d7ce-6f6ded3a67da"
      },
      "execution_count": 27,
      "outputs": [
        {
          "output_type": "stream",
          "name": "stdout",
          "text": [
            "gold.txt       test_gold.txt   train_gold.txt\n",
            "sentences.txt  test_words.txt  train_words.txt\n"
          ]
        }
      ]
    },
    {
      "cell_type": "code",
      "source": [
        "sentences = open('CS221-Project/dataset/sentences.txt', encoding='utf-8').readlines()\n",
        "tokenize_sentences = [sentence.split(' ') for sentence in sentences]"
      ],
      "metadata": {
        "id": "n0I_31s6_fiC"
      },
      "execution_count": 28,
      "outputs": []
    },
    {
      "cell_type": "code",
      "source": [
        "print('Số lượng câu đã thu thập:', len(sentences))\n",
        "sentences[0:2]"
      ],
      "metadata": {
        "colab": {
          "base_uri": "https://localhost:8080/"
        },
        "id": "4hhf42w8Af22",
        "outputId": "a4126f75-015a-4bbf-da69-ddba5918260c"
      },
      "execution_count": 21,
      "outputs": [
        {
          "output_type": "stream",
          "name": "stdout",
          "text": [
            "Số lượng câu đã thu thập: 60\n"
          ]
        },
        {
          "output_type": "execute_result",
          "data": {
            "text/plain": [
              "['Pha lập công trên đã giúp Rashford giải hạn bàn thắng tại sân Old Trafford kéo dài 845 phút .\\n',\n",
              " 'Với 3 điểm có được trong trận đấu này , Quỷ đỏ đã leo lên vị trí thứ 2 trên bảng xếp hạng Premier League với 30 điểm , chỉ kém đội đầu bảng Liverpool 2 điểm .\\n']"
            ]
          },
          "metadata": {},
          "execution_count": 21
        }
      ]
    },
    {
      "cell_type": "code",
      "source": [
        "max_str = max(tokenize_sentences, key=len)\n",
        "print('Câu có số từ nhiều nhât:', len(max_str))\n",
        "' '.join(max_str)"
      ],
      "metadata": {
        "colab": {
          "base_uri": "https://localhost:8080/",
          "height": 70
        },
        "id": "um-asjVSA_lv",
        "outputId": "f790db5f-5ed3-428b-eb66-cd6b0114d3c4"
      },
      "execution_count": 29,
      "outputs": [
        {
          "output_type": "stream",
          "name": "stdout",
          "text": [
            "Câu có số từ nhiều nhât: 46\n"
          ]
        },
        {
          "output_type": "execute_result",
          "data": {
            "text/plain": [
              "'Những thực phẩm được chế biến như hun khói , thức ăn ngâm tẩm , muối , món ăn chứa lượng muối cao thường có tỷ lệ mắc ung thư dạ dày cao hơn những người có thói quen ăn uống nhạt và thanh đạm .\\n'"
            ],
            "application/vnd.google.colaboratory.intrinsic+json": {
              "type": "string"
            }
          },
          "metadata": {},
          "execution_count": 29
        }
      ]
    },
    {
      "cell_type": "code",
      "source": [
        "min_str = min(tokenize_sentences, key=len)\n",
        "print('Câu có số từ ít nhât:', len(min_str))\n",
        "' '.join(min_str)"
      ],
      "metadata": {
        "colab": {
          "base_uri": "https://localhost:8080/",
          "height": 53
        },
        "id": "8KW8xQuvBBqJ",
        "outputId": "1ff10ab6-6769-4979-89b3-63566ec268b3"
      },
      "execution_count": 30,
      "outputs": [
        {
          "output_type": "stream",
          "name": "stdout",
          "text": [
            "Câu có số từ ít nhât: 8\n"
          ]
        },
        {
          "output_type": "execute_result",
          "data": {
            "text/plain": [
              "'Nhiều người có hoàn cảnh giống ông .\\n'"
            ],
            "application/vnd.google.colaboratory.intrinsic+json": {
              "type": "string"
            }
          },
          "metadata": {},
          "execution_count": 30
        }
      ]
    },
    {
      "cell_type": "markdown",
      "source": [
        "# 3. Tách từ\n"
      ],
      "metadata": {
        "id": "PQkDRLoeBGDj"
      }
    },
    {
      "cell_type": "markdown",
      "source": [
        "## 3.1 Sử dụng thuật toán Longest-Matching"
      ],
      "metadata": {
        "id": "PPpHKKB4B7ex"
      }
    },
    {
      "cell_type": "code",
      "source": [
        "def syllablize(sentence):\n",
        "    word = '\\w+'\n",
        "    non_word = '[^\\w\\s]'\n",
        "    digits = '\\d+([\\.,_]\\d+)+'\n",
        "    \n",
        "    patterns = []\n",
        "    patterns.extend([word, non_word, digits])\n",
        "    patterns = f\"({'|'.join(patterns)})\"\n",
        "    \n",
        "    sentence = ud.normalize('NFC', sentence)\n",
        "    tokens = re.findall(patterns, sentence, re.UNICODE)\n",
        "    return [token[0] for token in tokens]"
      ],
      "metadata": {
        "id": "c3Mx--iZBKAC"
      },
      "execution_count": 31,
      "outputs": []
    },
    {
      "cell_type": "code",
      "source": [
        "def load_n_grams(path):\n",
        "    with open(path, encoding='utf8') as f:\n",
        "        words = f.read()\n",
        "        words = ast.literal_eval(words)\n",
        "    return words"
      ],
      "metadata": {
        "id": "Mf2Ni0kzBL1T"
      },
      "execution_count": 32,
      "outputs": []
    },
    {
      "cell_type": "code",
      "source": [
        "def longest_matching(sentence, bi_grams, tri_grams):\n",
        "    syllables = syllablize(sentence)\n",
        "    syl_len = len(syllables)\n",
        "    \n",
        "    curr_id = 0\n",
        "    word_list = []\n",
        "    done = False\n",
        "    \n",
        "    while (curr_id < syl_len) and (not done):\n",
        "        curr_word = syllables[curr_id]\n",
        "        if curr_id >= syl_len - 1:\n",
        "            word_list.append(curr_word)\n",
        "            done = True\n",
        "        else:\n",
        "            next_word = syllables[curr_id + 1]\n",
        "            pair_word = ' '.join([curr_word.lower(), next_word.lower()])\n",
        "            if curr_id >= (syl_len - 2):\n",
        "                if pair_word in bi_grams:\n",
        "                    word_list.append('_'.join([curr_word, next_word]))\n",
        "                    curr_id += 2\n",
        "                else:\n",
        "                    word_list.append(curr_word)\n",
        "                    curr_id += 1\n",
        "            else:\n",
        "                next_next_word = syllables[curr_id + 2]\n",
        "                triple_word = ' '.join([pair_word, next_next_word.lower()])\n",
        "                if triple_word in tri_grams:\n",
        "                    word_list.append('_'.join([curr_word, next_word, next_next_word]))\n",
        "                    curr_id += 3\n",
        "                elif pair_word in bi_grams:\n",
        "                    word_list.append('_'.join([curr_word, next_word]))\n",
        "                    curr_id += 2\n",
        "                else:\n",
        "                    word_list.append(curr_word)\n",
        "                    curr_id += 1\n",
        "    return word_list"
      ],
      "metadata": {
        "id": "mAxn1ZqWBM3V"
      },
      "execution_count": 34,
      "outputs": []
    },
    {
      "cell_type": "code",
      "source": [
        "bi_grams = load_n_grams('CS221-Project/resources/bi_grams.txt')\n",
        "tri_grams = load_n_grams('CS221-Project/resources/tri_grams.txt')\n",
        "longest_matching('nhưng sự thực hiện vẫn còn chưa phù hợp', bi_grams, tri_grams)"
      ],
      "metadata": {
        "colab": {
          "base_uri": "https://localhost:8080/"
        },
        "id": "WE_Ukk8gCFmZ",
        "outputId": "921a4fef-831d-484c-a558-3b8bba671046"
      },
      "execution_count": 36,
      "outputs": [
        {
          "output_type": "execute_result",
          "data": {
            "text/plain": [
              "['nhưng', 'sự_thực', 'hiện', 'vẫn', 'còn', 'chưa', 'phù_hợp']"
            ]
          },
          "metadata": {},
          "execution_count": 36
        }
      ]
    },
    {
      "cell_type": "code",
      "source": [
        "with open('CS221-Project/tokenize/longest_matching_tokens.txt', 'w', encoding='utf-8') as f:\n",
        "    longest_matching_sentences = []\n",
        "    for sentence in sentences:\n",
        "        word_list = longest_matching(sentence, bi_grams, tri_grams)\n",
        "        longest_matching_sentences.append(' '.join(word_list))\n",
        "        for word in word_list: f.write(word + '\\n')\n",
        "        if sentence != sentences[-1]: f.write('\\n')\n",
        "    f.write('\\n')\n",
        "longest_matching_sentences[0:3]"
      ],
      "metadata": {
        "colab": {
          "base_uri": "https://localhost:8080/"
        },
        "id": "ETTEN7c-COmL",
        "outputId": "63632930-6138-41af-da32-2c8490919619"
      },
      "execution_count": 38,
      "outputs": [
        {
          "output_type": "execute_result",
          "data": {
            "text/plain": [
              "['Pha lập_công trên đã giúp Rashford giải hạn bàn thắng tại sân Old Trafford kéo dài 845 phút .',\n",
              " 'Với 3 điểm có được trong trận đấu này , Quỷ đỏ đã leo lên vị_trí thứ 2 trên bảng xếp_hạng Premier League với 30 điểm , chỉ kém đội đầu_bảng Liverpool 2 điểm .',\n",
              " 'Tổng_thống đắc_cử Joe Biden được cho đang cân_nhắc việc cắt bỏ chương_trình hiện_đại hóa hạt_nhân trị_giá 1 . 000 tỷ USD do chính_quyền Tổng_thống đương_nhiệm Donald Trump đề_xuất .']"
            ]
          },
          "metadata": {},
          "execution_count": 38
        }
      ]
    },
    {
      "cell_type": "code",
      "source": [
        "count_longest_matching_compounds = 0\n",
        "for sentence in longest_matching_sentences:\n",
        "    for word in sentence.split():\n",
        "        if '_' in word: count_longest_matching_compounds += 1\n",
        "print('Số lượng từ ghép khi tách từ bằng thuật toán Longest Matching:', count_longest_matching_compounds)"
      ],
      "metadata": {
        "colab": {
          "base_uri": "https://localhost:8080/"
        },
        "id": "wNEL_ISVCcUg",
        "outputId": "1824f393-f82b-43a3-8e26-94fd42bc9b7f"
      },
      "execution_count": 39,
      "outputs": [
        {
          "output_type": "stream",
          "name": "stdout",
          "text": [
            "Số lượng từ ghép khi tách từ bằng thuật toán Longest Matching: 257\n"
          ]
        }
      ]
    },
    {
      "cell_type": "markdown",
      "source": [
        "## 3.2 Sử dụng thư viện VNCoreNLP\n",
        "\n",
        "\n",
        "1.   Cài đặt py-vncorenlp\n",
        "2.   Khởi tạo đối tượng VNCoreNLP\n",
        "3.   Xử lý đối tượng VNCoreNLP\n",
        "\n",
        "\n",
        "\n",
        "\n",
        "\n",
        "\n"
      ],
      "metadata": {
        "id": "HUWLeCkaCeCf"
      }
    },
    {
      "cell_type": "code",
      "source": [
        "!pip install py-vncorenlp"
      ],
      "metadata": {
        "colab": {
          "base_uri": "https://localhost:8080/"
        },
        "id": "Dtb6NRXCDif-",
        "outputId": "b6ca5b21-201d-4b0b-b2e9-7614ba15afd7"
      },
      "execution_count": 40,
      "outputs": [
        {
          "output_type": "stream",
          "name": "stdout",
          "text": [
            "Looking in indexes: https://pypi.org/simple, https://us-python.pkg.dev/colab-wheels/public/simple/\n",
            "Collecting py-vncorenlp\n",
            "  Downloading py_vncorenlp-0.1.3.tar.gz (3.9 kB)\n",
            "Collecting pyjnius\n",
            "  Downloading pyjnius-1.4.2-cp37-cp37m-manylinux_2_17_x86_64.manylinux2014_x86_64.whl (1.3 MB)\n",
            "\u001b[K     |████████████████████████████████| 1.3 MB 5.3 MB/s \n",
            "\u001b[?25hRequirement already satisfied: six>=1.7.0 in /usr/local/lib/python3.7/dist-packages (from pyjnius->py-vncorenlp) (1.15.0)\n",
            "Building wheels for collected packages: py-vncorenlp\n",
            "  Building wheel for py-vncorenlp (setup.py) ... \u001b[?25l\u001b[?25hdone\n",
            "  Created wheel for py-vncorenlp: filename=py_vncorenlp-0.1.3-py3-none-any.whl size=4307 sha256=45d5733f0d7df96eb0576a2f7a019b3e51c28b1797b251715b9184873c347e6a\n",
            "  Stored in directory: /root/.cache/pip/wheels/87/be/55/d5930c1d90a09832e9afd57a9e13801e3d16c88f5a19f777ae\n",
            "Successfully built py-vncorenlp\n",
            "Installing collected packages: pyjnius, py-vncorenlp\n",
            "Successfully installed py-vncorenlp-0.1.3 pyjnius-1.4.2\n"
          ]
        }
      ]
    },
    {
      "cell_type": "code",
      "source": [
        "import py_vncorenlp\n",
        "py_vncorenlp.download_model(save_dir='./')\n",
        "model = py_vncorenlp.VnCoreNLP(annotators=[\"wseg\", \"pos\", \"ner\", \"parse\"], save_dir='./')"
      ],
      "metadata": {
        "id": "KvcGOcU3Dl_0"
      },
      "execution_count": 41,
      "outputs": []
    },
    {
      "cell_type": "code",
      "source": [
        "model.annotate_text(sentences[0])"
      ],
      "metadata": {
        "colab": {
          "base_uri": "https://localhost:8080/"
        },
        "id": "sHNHMyhOEE2y",
        "outputId": "2c2420ee-8ac6-4f0c-981f-2a10d4cdedfa"
      },
      "execution_count": 42,
      "outputs": [
        {
          "output_type": "execute_result",
          "data": {
            "text/plain": [
              "{0: [{'index': 1,\n",
              "   'wordForm': 'Pha',\n",
              "   'posTag': 'N',\n",
              "   'nerLabel': 'O',\n",
              "   'head': 5,\n",
              "   'depLabel': 'sub'},\n",
              "  {'index': 2,\n",
              "   'wordForm': 'lập_công',\n",
              "   'posTag': 'V',\n",
              "   'nerLabel': 'O',\n",
              "   'head': 1,\n",
              "   'depLabel': 'nmod'},\n",
              "  {'index': 3,\n",
              "   'wordForm': 'trên',\n",
              "   'posTag': 'N',\n",
              "   'nerLabel': 'O',\n",
              "   'head': 1,\n",
              "   'depLabel': 'nmod'},\n",
              "  {'index': 4,\n",
              "   'wordForm': 'đã',\n",
              "   'posTag': 'R',\n",
              "   'nerLabel': 'O',\n",
              "   'head': 5,\n",
              "   'depLabel': 'adv'},\n",
              "  {'index': 5,\n",
              "   'wordForm': 'giúp',\n",
              "   'posTag': 'V',\n",
              "   'nerLabel': 'O',\n",
              "   'head': 0,\n",
              "   'depLabel': 'root'},\n",
              "  {'index': 6,\n",
              "   'wordForm': 'Rashford',\n",
              "   'posTag': 'Np',\n",
              "   'nerLabel': 'B-PER',\n",
              "   'head': 5,\n",
              "   'depLabel': 'dob'},\n",
              "  {'index': 7,\n",
              "   'wordForm': 'giải',\n",
              "   'posTag': 'V',\n",
              "   'nerLabel': 'O',\n",
              "   'head': 5,\n",
              "   'depLabel': 'vmod'},\n",
              "  {'index': 8,\n",
              "   'wordForm': 'hạn',\n",
              "   'posTag': 'N',\n",
              "   'nerLabel': 'O',\n",
              "   'head': 7,\n",
              "   'depLabel': 'dob'},\n",
              "  {'index': 9,\n",
              "   'wordForm': 'bàn',\n",
              "   'posTag': 'N',\n",
              "   'nerLabel': 'O',\n",
              "   'head': 8,\n",
              "   'depLabel': 'nmod'},\n",
              "  {'index': 10,\n",
              "   'wordForm': 'thắng',\n",
              "   'posTag': 'V',\n",
              "   'nerLabel': 'O',\n",
              "   'head': 8,\n",
              "   'depLabel': 'nmod'},\n",
              "  {'index': 11,\n",
              "   'wordForm': 'tại',\n",
              "   'posTag': 'E',\n",
              "   'nerLabel': 'O',\n",
              "   'head': 8,\n",
              "   'depLabel': 'loc'},\n",
              "  {'index': 12,\n",
              "   'wordForm': 'sân',\n",
              "   'posTag': 'N',\n",
              "   'nerLabel': 'O',\n",
              "   'head': 11,\n",
              "   'depLabel': 'pob'},\n",
              "  {'index': 13,\n",
              "   'wordForm': 'Old_Trafford',\n",
              "   'posTag': 'Np',\n",
              "   'nerLabel': 'O',\n",
              "   'head': 12,\n",
              "   'depLabel': 'nmod'},\n",
              "  {'index': 14,\n",
              "   'wordForm': 'kéo_dài',\n",
              "   'posTag': 'V',\n",
              "   'nerLabel': 'O',\n",
              "   'head': 5,\n",
              "   'depLabel': 'dob'},\n",
              "  {'index': 15,\n",
              "   'wordForm': '845',\n",
              "   'posTag': 'M',\n",
              "   'nerLabel': 'O',\n",
              "   'head': 16,\n",
              "   'depLabel': 'det'},\n",
              "  {'index': 16,\n",
              "   'wordForm': 'phút',\n",
              "   'posTag': 'Nu',\n",
              "   'nerLabel': 'O',\n",
              "   'head': 14,\n",
              "   'depLabel': 'dob'},\n",
              "  {'index': 17,\n",
              "   'wordForm': '.',\n",
              "   'posTag': 'CH',\n",
              "   'nerLabel': 'O',\n",
              "   'head': 5,\n",
              "   'depLabel': 'punct'}]}"
            ]
          },
          "metadata": {},
          "execution_count": 42
        }
      ]
    }
  ]
}